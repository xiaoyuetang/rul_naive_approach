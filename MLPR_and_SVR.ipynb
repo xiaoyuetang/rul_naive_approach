{
 "cells": [
  {
   "cell_type": "code",
   "execution_count": 1,
   "metadata": {},
   "outputs": [
    {
     "name": "stdout",
     "output_type": "stream",
     "text": [
      "Requirement already satisfied: sklearn in /usr/local/lib/python3.7/site-packages (0.0)\n",
      "Requirement already satisfied: scikit-learn in /usr/local/lib/python3.7/site-packages (from sklearn) (0.21.3)\n",
      "Requirement already satisfied: scipy>=0.17.0 in /usr/local/lib/python3.7/site-packages (from scikit-learn->sklearn) (1.3.3)\n",
      "Requirement already satisfied: numpy>=1.11.0 in /usr/local/lib/python3.7/site-packages (from scikit-learn->sklearn) (1.17.4)\n",
      "Requirement already satisfied: joblib>=0.11 in /usr/local/lib/python3.7/site-packages (from scikit-learn->sklearn) (0.14.0)\n",
      "Collecting pandas\n",
      "\u001b[?25l  Downloading https://files.pythonhosted.org/packages/16/b5/bab3477466a4d9e705d40829ac65683155e7977acbc07f05b06fabded1be/pandas-0.25.3-cp37-cp37m-macosx_10_9_x86_64.whl (10.2MB)\n",
      "\u001b[K     |████████████████████████████████| 10.2MB 9.7MB/s eta 0:00:01    |▍                               | 112kB 5.0MB/s eta 0:00:03     |███▋                            | 1.2MB 5.0MB/s eta 0:00:02\n",
      "\u001b[?25hCollecting pytz>=2017.2\n",
      "  Using cached https://files.pythonhosted.org/packages/e7/f9/f0b53f88060247251bf481fa6ea62cd0d25bf1b11a87888e53ce5b7c8ad2/pytz-2019.3-py2.py3-none-any.whl\n",
      "Requirement already satisfied: numpy>=1.13.3 in /usr/local/lib/python3.7/site-packages (from pandas) (1.17.4)\n",
      "Requirement already satisfied: python-dateutil>=2.6.1 in /usr/local/Cellar/ipython/7.8.0/libexec/vendor/lib/python3.7/site-packages (from pandas) (2.8.0)\n",
      "Requirement already satisfied: six>=1.5 in /usr/local/Cellar/ipython/7.8.0/libexec/vendor/lib/python3.7/site-packages (from python-dateutil>=2.6.1->pandas) (1.12.0)\n",
      "Installing collected packages: pytz, pandas\n",
      "Successfully installed pandas-0.25.3 pytz-2019.3\n",
      "Requirement already satisfied: numpy in /usr/local/lib/python3.7/site-packages (1.17.4)\n"
     ]
    }
   ],
   "source": [
    "!pip3 install sklearn\n",
    "!pip3 install pandas\n",
    "!pip3 install numpy\n",
    "\n",
    "from sklearn import preprocessing\n",
    "import numpy as np\n",
    "import pandas as pd\n",
    "from sklearn.svm import SVR\n",
    "from sklearn.neural_network import MLPRegressor"
   ]
  },
  {
   "cell_type": "code",
   "execution_count": 2,
   "metadata": {},
   "outputs": [],
   "source": [
    "feature_list = ['cycle_norm', 's1', 's2', 's3', 's4', 's5', 's6', 's7', 's8', 's9', 's10',\n",
    "               's11', 's12', 's13', 's14', 's15', 's16', 's17', 's18', 's19', 's20', 's21']"
   ]
  },
  {
   "cell_type": "code",
   "execution_count": 3,
   "metadata": {},
   "outputs": [],
   "source": [
    "def process_data(train_path, test_path, RUL_path):\n",
    "    # read training data - It is the aircraft engine run-to-failure data.\n",
    "    train_df = pd.read_csv(train_path, sep=\" \", header=None)\n",
    "    train_df.drop(train_df.columns[[26, 27]], axis=1, inplace=True)\n",
    "    train_df.columns = ['id', 'cycle', 'setting1', 'setting2', 'setting3', 's1', 's2', 's3',\n",
    "                         's4', 's5', 's6', 's7', 's8', 's9', 's10', 's11', 's12', 's13', 's14',\n",
    "                         's15', 's16', 's17', 's18', 's19', 's20', 's21']\n",
    "\n",
    "    train_df = train_df.sort_values(['id','cycle'])\n",
    "    \n",
    "    train_df = group_by_settinngs(train_df, train_path)\n",
    "    \n",
    "    # Data Labeling - generate column RUL (Remaining Useful Life or Time to Failure)\n",
    "    rul = pd.DataFrame(train_df.groupby('id')['cycle'].max()).reset_index()\n",
    "    rul.columns = ['id', 'max']\n",
    "    train_df = train_df.merge(rul, on=['id'], how='left')\n",
    "    train_df['RUL'] = train_df['max'] - train_df['cycle']\n",
    "    train_df.drop('max', axis=1, inplace=True)\n",
    "\n",
    "    # MinMax normalization (from 0 to 1)\n",
    "    train_df['cycle_norm'] = train_df['cycle']\n",
    "    cols_normalize = train_df.columns.difference(['id','cycle','RUL','setting1', 'setting2', 'setting3'])\n",
    "    min_max_scaler = preprocessing.MinMaxScaler()\n",
    "    norm_train_df = pd.DataFrame(min_max_scaler.fit_transform(train_df[cols_normalize]),\n",
    "                                 columns=cols_normalize,\n",
    "                                 index=train_df.index)\n",
    "    join_df = train_df[train_df.columns.difference(cols_normalize)].join(norm_train_df)\n",
    "    train_df = join_df.reindex(columns = train_df.columns)  \n",
    "    \n",
    "    ######################\n",
    "    \n",
    "    # read test data - It is the aircraft engine operating data without failure events recorded.\n",
    "    test_df = pd.read_csv(test_path, sep=\" \", header=None)\n",
    "    test_df.drop(test_df.columns[[26, 27]], axis=1, inplace=True)\n",
    "    test_df.columns = ['id', 'cycle', 'setting1', 'setting2', 'setting3', 's1', 's2', 's3',\n",
    "                         's4', 's5', 's6', 's7', 's8', 's9', 's10', 's11', 's12', 's13', 's14',\n",
    "                         's15', 's16', 's17', 's18', 's19', 's20', 's21']\n",
    "    \n",
    "    test_df = group_by_settinngs(test_df, test_path)\n",
    "    # MinMax normalization (from 0 to 1)\n",
    "    test_df['cycle_norm'] = test_df['cycle']\n",
    "    norm_test_df = pd.DataFrame(min_max_scaler.transform(test_df[cols_normalize]),\n",
    "                                columns=cols_normalize,\n",
    "                                index=test_df.index)\n",
    "    test_join_df = test_df[test_df.columns.difference(cols_normalize)].join(norm_test_df)\n",
    "    test_df = test_join_df.reindex(columns = test_df.columns)\n",
    "    test_df = test_df.reset_index(drop=True)\n",
    "\n",
    "    # read ground truth data - It contains the information of true remaining cycles for each engine in the testing data.\n",
    "    truth_df = pd.read_csv(RUL_path, sep=\" \", header=None)\n",
    "    truth_df.drop(truth_df.columns[[1]], axis=1, inplace=True)\n",
    "\n",
    "    # generate column max for test data\n",
    "    rul = pd.DataFrame(test_df.groupby('id')['cycle'].max()).reset_index()\n",
    "    rul.columns = ['id', 'max']\n",
    "    truth_df.columns = ['more']\n",
    "    truth_df['id'] = truth_df.index + 1\n",
    "    truth_df['max'] = rul['max'] + truth_df['more']\n",
    "    truth_df.drop('more', axis=1, inplace=True)\n",
    "\n",
    "    # generate RUL for test data\n",
    "    test_df = test_df.merge(truth_df, on=['id'], how='left')\n",
    "    test_df['RUL'] = test_df['max'] - test_df['cycle']\n",
    "    test_df.drop('max', axis=1, inplace=True)\n",
    "    \n",
    "    return train_df, test_df"
   ]
  },
  {
   "cell_type": "code",
   "execution_count": 4,
   "metadata": {},
   "outputs": [],
   "source": [
    "def group_by_settinngs(df, path):\n",
    "    if 'FD001' in path:\n",
    "        df.loc[df['setting1'].between(-0.0087, 0.0087), 'setting1'] = 0.0\n",
    "        df.loc[df['setting2'].between(-0.0006, 0.0006), 'setting2'] = 0.0\n",
    "        \n",
    "    elif 'FD003' in path:\n",
    "        df.loc[df['setting1'].between(18, 21), 'setting1'] = 20.0\n",
    "        df.loc[df['setting1'].between(-0.1, 0.1), 'setting1'] = 0.0\n",
    "        df.loc[df['setting1'].between(8.99, 10.9), 'setting1'] = 10.0\n",
    "        df.loc[df['setting1'].between(33.9, 39.9), 'setting1'] = 35.0\n",
    "        df.loc[df['setting1'].between(40.9, 42.9), 'setting1'] = 42.0\n",
    "        df.loc[df['setting1'].between(23.9, 26.0), 'setting1'] = 25.0\n",
    "        df.loc[df['setting2'].between(0.84, 0.85), 'setting2'] = 0.84\n",
    "        df.loc[df['setting2'].between(0.6, 0.65), 'setting2'] = 0.62\n",
    "        df.loc[df['setting2'].between(0.69, 0.71), 'setting2'] = 0.7\n",
    "        df.loc[df['setting2'].between(33.9, 35.5), 'setting2'] = 35.0\n",
    "        df.loc[df['setting2'].between(0.88, 0.95), 'setting2'] = 0.9\n",
    "        \n",
    "    elif 'FD003' in path:\n",
    "        df.loc[df['setting1'].between(-0.0086, 0.086), 'setting1'] = 0.0\n",
    "        df.loc[df['setting2'].between(-0.0006, 0.0007), 'setting2'] = 0.0\n",
    "        \n",
    "    elif 'FD004' in path:\n",
    "        df.loc[df['setting1'].between(39.9, 35.5), 'setting1'] = 35.0\n",
    "        df.loc[df['setting1'].between(-0.1, 0.1), 'setting1'] = 0.0\n",
    "        df.loc[df['setting1'].between(8.99, 10.9), 'setting1'] = 10.0\n",
    "        df.loc[df['setting1'].between(33.9, 35.5), 'setting1'] = 35.0\n",
    "        df.loc[df['setting1'].between(40.9, 42.9), 'setting1'] = 42.0\n",
    "        df.loc[df['setting1'].between(23.9, 24.9), 'setting1'] = 25.0\n",
    "        df.loc[df['setting2'].between(0.84, 0.85), 'setting2'] = 0.84\n",
    "        df.loc[df['setting2'].between(0.6, 0.65), 'setting2'] = 0.62\n",
    "        df.loc[df['setting2'].between(0.69, 0.71), 'setting2'] = 0.7\n",
    "        df.loc[df['setting2'].between(33.9, 35.5), 'setting2'] = 35.0\n",
    "        df.loc[df['setting2'].between(0.88, 0.95), 'setting2'] = 0.9\n",
    "    \n",
    "    df.groupby('setting1')\n",
    "    \n",
    "    return df"
   ]
  },
  {
   "cell_type": "code",
   "execution_count": 5,
   "metadata": {},
   "outputs": [
    {
     "data": {
      "text/html": [
       "<div>\n",
       "<style scoped>\n",
       "    .dataframe tbody tr th:only-of-type {\n",
       "        vertical-align: middle;\n",
       "    }\n",
       "\n",
       "    .dataframe tbody tr th {\n",
       "        vertical-align: top;\n",
       "    }\n",
       "\n",
       "    .dataframe thead th {\n",
       "        text-align: right;\n",
       "    }\n",
       "</style>\n",
       "<table border=\"1\" class=\"dataframe\">\n",
       "  <thead>\n",
       "    <tr style=\"text-align: right;\">\n",
       "      <th></th>\n",
       "      <th>id</th>\n",
       "      <th>cycle</th>\n",
       "      <th>setting1</th>\n",
       "      <th>setting2</th>\n",
       "      <th>setting3</th>\n",
       "      <th>s1</th>\n",
       "      <th>s2</th>\n",
       "      <th>s3</th>\n",
       "      <th>s4</th>\n",
       "      <th>s5</th>\n",
       "      <th>...</th>\n",
       "      <th>s14</th>\n",
       "      <th>s15</th>\n",
       "      <th>s16</th>\n",
       "      <th>s17</th>\n",
       "      <th>s18</th>\n",
       "      <th>s19</th>\n",
       "      <th>s20</th>\n",
       "      <th>s21</th>\n",
       "      <th>RUL</th>\n",
       "      <th>cycle_norm</th>\n",
       "    </tr>\n",
       "  </thead>\n",
       "  <tbody>\n",
       "    <tr>\n",
       "      <th>0</th>\n",
       "      <td>1</td>\n",
       "      <td>1</td>\n",
       "      <td>0.0</td>\n",
       "      <td>0.0</td>\n",
       "      <td>100.0</td>\n",
       "      <td>0.0</td>\n",
       "      <td>0.183735</td>\n",
       "      <td>0.406802</td>\n",
       "      <td>0.309757</td>\n",
       "      <td>0.0</td>\n",
       "      <td>...</td>\n",
       "      <td>0.199608</td>\n",
       "      <td>0.363986</td>\n",
       "      <td>0.0</td>\n",
       "      <td>0.333333</td>\n",
       "      <td>0.0</td>\n",
       "      <td>0.0</td>\n",
       "      <td>0.713178</td>\n",
       "      <td>0.724662</td>\n",
       "      <td>191</td>\n",
       "      <td>0.00000</td>\n",
       "    </tr>\n",
       "    <tr>\n",
       "      <th>1</th>\n",
       "      <td>1</td>\n",
       "      <td>2</td>\n",
       "      <td>0.0</td>\n",
       "      <td>0.0</td>\n",
       "      <td>100.0</td>\n",
       "      <td>0.0</td>\n",
       "      <td>0.283133</td>\n",
       "      <td>0.453019</td>\n",
       "      <td>0.352633</td>\n",
       "      <td>0.0</td>\n",
       "      <td>...</td>\n",
       "      <td>0.162813</td>\n",
       "      <td>0.411312</td>\n",
       "      <td>0.0</td>\n",
       "      <td>0.333333</td>\n",
       "      <td>0.0</td>\n",
       "      <td>0.0</td>\n",
       "      <td>0.666667</td>\n",
       "      <td>0.731014</td>\n",
       "      <td>190</td>\n",
       "      <td>0.00277</td>\n",
       "    </tr>\n",
       "    <tr>\n",
       "      <th>2</th>\n",
       "      <td>1</td>\n",
       "      <td>3</td>\n",
       "      <td>0.0</td>\n",
       "      <td>0.0</td>\n",
       "      <td>100.0</td>\n",
       "      <td>0.0</td>\n",
       "      <td>0.343373</td>\n",
       "      <td>0.369523</td>\n",
       "      <td>0.370527</td>\n",
       "      <td>0.0</td>\n",
       "      <td>...</td>\n",
       "      <td>0.171793</td>\n",
       "      <td>0.357445</td>\n",
       "      <td>0.0</td>\n",
       "      <td>0.166667</td>\n",
       "      <td>0.0</td>\n",
       "      <td>0.0</td>\n",
       "      <td>0.627907</td>\n",
       "      <td>0.621375</td>\n",
       "      <td>189</td>\n",
       "      <td>0.00554</td>\n",
       "    </tr>\n",
       "    <tr>\n",
       "      <th>3</th>\n",
       "      <td>1</td>\n",
       "      <td>4</td>\n",
       "      <td>0.0</td>\n",
       "      <td>0.0</td>\n",
       "      <td>100.0</td>\n",
       "      <td>0.0</td>\n",
       "      <td>0.343373</td>\n",
       "      <td>0.256159</td>\n",
       "      <td>0.331195</td>\n",
       "      <td>0.0</td>\n",
       "      <td>...</td>\n",
       "      <td>0.174889</td>\n",
       "      <td>0.166603</td>\n",
       "      <td>0.0</td>\n",
       "      <td>0.333333</td>\n",
       "      <td>0.0</td>\n",
       "      <td>0.0</td>\n",
       "      <td>0.573643</td>\n",
       "      <td>0.662386</td>\n",
       "      <td>188</td>\n",
       "      <td>0.00831</td>\n",
       "    </tr>\n",
       "    <tr>\n",
       "      <th>4</th>\n",
       "      <td>1</td>\n",
       "      <td>5</td>\n",
       "      <td>0.0</td>\n",
       "      <td>0.0</td>\n",
       "      <td>100.0</td>\n",
       "      <td>0.0</td>\n",
       "      <td>0.349398</td>\n",
       "      <td>0.257467</td>\n",
       "      <td>0.404625</td>\n",
       "      <td>0.0</td>\n",
       "      <td>...</td>\n",
       "      <td>0.174734</td>\n",
       "      <td>0.402078</td>\n",
       "      <td>0.0</td>\n",
       "      <td>0.416667</td>\n",
       "      <td>0.0</td>\n",
       "      <td>0.0</td>\n",
       "      <td>0.589147</td>\n",
       "      <td>0.704502</td>\n",
       "      <td>187</td>\n",
       "      <td>0.01108</td>\n",
       "    </tr>\n",
       "  </tbody>\n",
       "</table>\n",
       "<p>5 rows × 28 columns</p>\n",
       "</div>"
      ],
      "text/plain": [
       "   id  cycle  setting1  setting2  setting3   s1        s2        s3        s4  \\\n",
       "0   1      1       0.0       0.0     100.0  0.0  0.183735  0.406802  0.309757   \n",
       "1   1      2       0.0       0.0     100.0  0.0  0.283133  0.453019  0.352633   \n",
       "2   1      3       0.0       0.0     100.0  0.0  0.343373  0.369523  0.370527   \n",
       "3   1      4       0.0       0.0     100.0  0.0  0.343373  0.256159  0.331195   \n",
       "4   1      5       0.0       0.0     100.0  0.0  0.349398  0.257467  0.404625   \n",
       "\n",
       "    s5  ...       s14       s15  s16       s17  s18  s19       s20       s21  \\\n",
       "0  0.0  ...  0.199608  0.363986  0.0  0.333333  0.0  0.0  0.713178  0.724662   \n",
       "1  0.0  ...  0.162813  0.411312  0.0  0.333333  0.0  0.0  0.666667  0.731014   \n",
       "2  0.0  ...  0.171793  0.357445  0.0  0.166667  0.0  0.0  0.627907  0.621375   \n",
       "3  0.0  ...  0.174889  0.166603  0.0  0.333333  0.0  0.0  0.573643  0.662386   \n",
       "4  0.0  ...  0.174734  0.402078  0.0  0.416667  0.0  0.0  0.589147  0.704502   \n",
       "\n",
       "   RUL  cycle_norm  \n",
       "0  191     0.00000  \n",
       "1  190     0.00277  \n",
       "2  189     0.00554  \n",
       "3  188     0.00831  \n",
       "4  187     0.01108  \n",
       "\n",
       "[5 rows x 28 columns]"
      ]
     },
     "execution_count": 5,
     "metadata": {},
     "output_type": "execute_result"
    }
   ],
   "source": [
    "train1,test1 = process_data('../Data/CMAPSSData/Train/train_FD001.txt','../Data/CMAPSSData/Test/test_FD001.txt', '../Data/CMAPSSData/RUL/RUL_FD001.txt')\n",
    "\n",
    "train1.head()"
   ]
  },
  {
   "cell_type": "code",
   "execution_count": 6,
   "metadata": {},
   "outputs": [],
   "source": [
    "def RUL(y):\n",
    "    for i in range(len(y)):\n",
    "        if y[i] > 130:\n",
    "            y[i] = 130"
   ]
  },
  {
   "cell_type": "code",
   "execution_count": 7,
   "metadata": {},
   "outputs": [],
   "source": [
    "train1,test1 = process_data('../Data/CMAPSSData/Train/train_FD001.txt','../Data/CMAPSSData/Test/test_FD001.txt', '../Data/CMAPSSData/RUL/RUL_FD001.txt')\n",
    "train2,test2 = process_data('../Data/CMAPSSData/Train/train_FD002.txt','../Data/CMAPSSData/Test/test_FD002.txt', '../Data/CMAPSSData/RUL/RUL_FD002.txt')\n",
    "train3,test3 = process_data('../Data/CMAPSSData/Train/train_FD003.txt','../Data/CMAPSSData/Test/test_FD003.txt', '../Data/CMAPSSData/RUL/RUL_FD003.txt')\n",
    "train4,test4 = process_data('../Data/CMAPSSData/Train/train_FD004.txt','../Data/CMAPSSData/Test/test_FD004.txt', '../Data/CMAPSSData/RUL/RUL_FD004.txt')"
   ]
  },
  {
   "cell_type": "code",
   "execution_count": 8,
   "metadata": {},
   "outputs": [],
   "source": [
    "X1_train, y1_train = np.array(train1[feature_list]), np.array(train1['RUL'])\n",
    "X2_train, y2_train = np.array(train2[feature_list]), np.array(train2['RUL'])\n",
    "X3_train, y3_train = np.array(train3[feature_list]), np.array(train3['RUL'])\n",
    "X4_train, y4_train = np.array(train4[feature_list]), np.array(train4['RUL'])\n",
    "\n",
    "X1_test, y1_test = np.array(test1[feature_list]), np.array(test1['RUL'])\n",
    "X2_test, y2_test = np.array(test2[feature_list]), np.array(test2['RUL'])\n",
    "X3_test, y3_test = np.array(test3[feature_list]), np.array(test3['RUL'])\n",
    "X4_test, y4_test = np.array(test4[feature_list]), np.array(test4['RUL'])"
   ]
  },
  {
   "cell_type": "code",
   "execution_count": 9,
   "metadata": {},
   "outputs": [],
   "source": [
    "def Score(estiRUL, trueRUL):\n",
    "    score = 0\n",
    "    for i in range(len(estiRUL)):\n",
    "        h = estiRUL[i] - trueRUL[i]\n",
    "        if h<0:\n",
    "            score += np.exp(-h/13)-1\n",
    "        else:\n",
    "            score += np.exp(h/10)-1\n",
    "    return score"
   ]
  },
  {
   "cell_type": "code",
   "execution_count": 10,
   "metadata": {},
   "outputs": [],
   "source": [
    "def RMSE(estiRUL, trueRUL): \n",
    "    return np.sqrt(((estiRUL - trueRUL) ** 2).mean())"
   ]
  },
  {
   "cell_type": "code",
   "execution_count": 11,
   "metadata": {},
   "outputs": [],
   "source": [
    "def MLP_R(X_train, y_train, X_test, y_test):\n",
    "\n",
    "    RUL(y_train)\n",
    "    RUL(y_test)\n",
    "    \n",
    "    mlp_r = MLPRegressor(alpha=0.1, verbose=False, batch_size=10, solver=\"sgd\", hidden_layer_sizes=(3), max_iter=10)\n",
    "    mlp_r.fit(X_train, y_train)\n",
    "    pred = mlp_r.predict(X_test)\n",
    "    RUL(pred)\n",
    "\n",
    "    score = Score(pred, y_test)\n",
    "    rmse = RMSE(pred, y_test)\n",
    "\n",
    "    return \"Score: \", score, \"RMSE: \", rmse"
   ]
  },
  {
   "cell_type": "code",
   "execution_count": 12,
   "metadata": {},
   "outputs": [],
   "source": [
    "def SVR_M(X_train, y_train, X_test, y_test):\n",
    "    \n",
    "    RUL(y_train)\n",
    "    RUL(y_test)\n",
    "    \n",
    "    svr = SVR(kernel='rbf', verbose=False)\n",
    "    svr.fit(X_train, y_train)\n",
    "    pred = svr.predict(X_test)\n",
    "    RUL(pred)\n",
    "\n",
    "    score = Score(pred, y_test)\n",
    "    rmse = RMSE(pred, y_test)\n",
    "    \n",
    "    return \"Score: \", score, \"RMSE: \", rmse"
   ]
  },
  {
   "cell_type": "code",
   "execution_count": 13,
   "metadata": {},
   "outputs": [
    {
     "name": "stderr",
     "output_type": "stream",
     "text": [
      "/usr/local/lib/python3.7/site-packages/sklearn/neural_network/multilayer_perceptron.py:566: ConvergenceWarning: Stochastic Optimizer: Maximum iterations (10) reached and the optimization hasn't converged yet.\n",
      "  % self.max_iter, ConvergenceWarning)\n"
     ]
    },
    {
     "name": "stdout",
     "output_type": "stream",
     "text": [
      "MLP_R FD001: ('Score: ', 117236.3728316107, 'RMSE: ', 22.47617468091365)\n"
     ]
    },
    {
     "name": "stderr",
     "output_type": "stream",
     "text": [
      "/usr/local/lib/python3.7/site-packages/sklearn/neural_network/multilayer_perceptron.py:566: ConvergenceWarning: Stochastic Optimizer: Maximum iterations (10) reached and the optimization hasn't converged yet.\n",
      "  % self.max_iter, ConvergenceWarning)\n"
     ]
    },
    {
     "name": "stdout",
     "output_type": "stream",
     "text": [
      "MLP_R FD002: ('Score: ', 599310.9299489153, 'RMSE: ', 25.945297840334245)\n"
     ]
    },
    {
     "name": "stderr",
     "output_type": "stream",
     "text": [
      "/usr/local/lib/python3.7/site-packages/sklearn/neural_network/multilayer_perceptron.py:566: ConvergenceWarning: Stochastic Optimizer: Maximum iterations (10) reached and the optimization hasn't converged yet.\n",
      "  % self.max_iter, ConvergenceWarning)\n"
     ]
    },
    {
     "name": "stdout",
     "output_type": "stream",
     "text": [
      "MLP_R FD003: ('Score: ', 879373.7326518401, 'RMSE: ', 33.79001424316291)\n"
     ]
    },
    {
     "name": "stderr",
     "output_type": "stream",
     "text": [
      "/usr/local/lib/python3.7/site-packages/sklearn/neural_network/multilayer_perceptron.py:566: ConvergenceWarning: Stochastic Optimizer: Maximum iterations (10) reached and the optimization hasn't converged yet.\n",
      "  % self.max_iter, ConvergenceWarning)\n"
     ]
    },
    {
     "name": "stdout",
     "output_type": "stream",
     "text": [
      "MLP_R FD004: ('Score: ', 1052760.4780525328, 'RMSE: ', 20.734996939082126)\n"
     ]
    },
    {
     "name": "stderr",
     "output_type": "stream",
     "text": [
      "/usr/local/lib/python3.7/site-packages/sklearn/svm/base.py:193: FutureWarning: The default value of gamma will change from 'auto' to 'scale' in version 0.22 to account better for unscaled features. Set gamma explicitly to 'auto' or 'scale' to avoid this warning.\n",
      "  \"avoid this warning.\", FutureWarning)\n"
     ]
    },
    {
     "name": "stdout",
     "output_type": "stream",
     "text": [
      "SVR FD001: ('Score: ', 114951.39783307389, 'RMSE: ', 20.252365975047177)\n"
     ]
    },
    {
     "name": "stderr",
     "output_type": "stream",
     "text": [
      "/usr/local/lib/python3.7/site-packages/sklearn/svm/base.py:193: FutureWarning: The default value of gamma will change from 'auto' to 'scale' in version 0.22 to account better for unscaled features. Set gamma explicitly to 'auto' or 'scale' to avoid this warning.\n",
      "  \"avoid this warning.\", FutureWarning)\n"
     ]
    },
    {
     "name": "stdout",
     "output_type": "stream",
     "text": [
      "SVR FD002: ('Score: ', 649112.4001936652, 'RMSE: ', 24.39471923625288)\n"
     ]
    },
    {
     "name": "stderr",
     "output_type": "stream",
     "text": [
      "/usr/local/lib/python3.7/site-packages/sklearn/svm/base.py:193: FutureWarning: The default value of gamma will change from 'auto' to 'scale' in version 0.22 to account better for unscaled features. Set gamma explicitly to 'auto' or 'scale' to avoid this warning.\n",
      "  \"avoid this warning.\", FutureWarning)\n"
     ]
    },
    {
     "name": "stdout",
     "output_type": "stream",
     "text": [
      "SVR FD003: ('Score: ', 162534.41416890614, 'RMSE: ', 19.160421683631867)\n"
     ]
    },
    {
     "name": "stderr",
     "output_type": "stream",
     "text": [
      "/usr/local/lib/python3.7/site-packages/sklearn/svm/base.py:193: FutureWarning: The default value of gamma will change from 'auto' to 'scale' in version 0.22 to account better for unscaled features. Set gamma explicitly to 'auto' or 'scale' to avoid this warning.\n",
      "  \"avoid this warning.\", FutureWarning)\n"
     ]
    },
    {
     "name": "stdout",
     "output_type": "stream",
     "text": [
      "SVR FD004: ('Score: ', 2667841.456914427, 'RMSE: ', 26.59382489950326)\n"
     ]
    }
   ],
   "source": [
    "print (\"MLP_R FD001:\", MLP_R(X1_train, y1_train, X1_test, y1_test))\n",
    "print (\"MLP_R FD002:\", MLP_R(X2_train, y2_train, X2_test, y2_test))\n",
    "print (\"MLP_R FD003:\", MLP_R(X3_train, y3_train, X3_test, y3_test))\n",
    "print (\"MLP_R FD004:\", MLP_R(X4_train, y4_train, X4_test, y4_test))\n",
    "\n",
    "print (\"SVR FD001:\", SVR_M(X1_train, y1_train, X1_test, y1_test))\n",
    "print (\"SVR FD002:\", SVR_M(X2_train, y2_train, X2_test, y2_test))\n",
    "print (\"SVR FD003:\", SVR_M(X3_train, y3_train, X3_test, y3_test))\n",
    "print (\"SVR FD004:\", SVR_M(X4_train, y4_train, X4_test, y4_test))"
   ]
  }
 ],
 "metadata": {
  "kernelspec": {
   "display_name": "Python 3",
   "language": "python",
   "name": "python3"
  },
  "language_info": {
   "codemirror_mode": {
    "name": "ipython",
    "version": 3
   },
   "file_extension": ".py",
   "mimetype": "text/x-python",
   "name": "python",
   "nbconvert_exporter": "python",
   "pygments_lexer": "ipython3",
   "version": "3.7.5"
  }
 },
 "nbformat": 4,
 "nbformat_minor": 2
}
